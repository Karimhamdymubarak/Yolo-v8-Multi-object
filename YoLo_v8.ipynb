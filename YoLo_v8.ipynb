{
 "cells": [
  {
   "cell_type": "markdown",
   "id": "663cdb58-9835-4957-bf0c-014c0e3d17eb",
   "metadata": {},
   "source": [
    "### Import Yolo v8"
   ]
  },
  {
   "cell_type": "code",
   "execution_count": 1,
   "id": "73fc28b0-887b-4c56-9231-34401a71f598",
   "metadata": {},
   "outputs": [],
   "source": [
    "from ultralytics import YOLO"
   ]
  },
  {
   "cell_type": "code",
   "execution_count": 2,
   "id": "58db4d91-568e-4cb2-b868-2619b49a8136",
   "metadata": {},
   "outputs": [
    {
     "name": "stderr",
     "output_type": "stream",
     "text": [
      "Downloading https:\\github.com\\ultralytics\\assets\\releases\\download\\v0.0.0\\yolov8m.pt to 'yolov8m.pt'...\n",
      "100%|██████████████████████████████████████████████████████████████████████████████| 49.7M/49.7M [01:47<00:00, 485kB/s]\n"
     ]
    }
   ],
   "source": [
    "model = YOLO(\"yolov8m.pt\")"
   ]
  },
  {
   "cell_type": "markdown",
   "id": "d8050903-b39d-4652-9a22-f4f98edd83ec",
   "metadata": {},
   "source": [
    "#### Predict with it"
   ]
  },
  {
   "cell_type": "code",
   "execution_count": 10,
   "id": "f1c24c0f-3e3b-4668-a24d-48e0da1214f0",
   "metadata": {},
   "outputs": [
    {
     "name": "stderr",
     "output_type": "stream",
     "text": [
      "\n",
      "image 1/1 D:\\Deep_Learning_Revision\\cat-dog.jpg: 448x640 1 cat, 1 dog, 590.2ms\n",
      "Speed: 8.4ms preprocess, 590.2ms inference, 0.0ms postprocess per image at shape (1, 3, 448, 640)\n"
     ]
    }
   ],
   "source": [
    "results = model.predict(\"cat-dog.jpg\")"
   ]
  },
  {
   "cell_type": "code",
   "execution_count": 15,
   "id": "20958deb-e533-4153-ba48-b12700b175f6",
   "metadata": {},
   "outputs": [],
   "source": [
    "result = results[0]"
   ]
  },
  {
   "cell_type": "code",
   "execution_count": 28,
   "id": "6435a493-4e65-40ca-bea6-b99d4f9baef5",
   "metadata": {},
   "outputs": [
    {
     "data": {
      "text/plain": [
       "0.9449876546859741"
      ]
     },
     "execution_count": 28,
     "metadata": {},
     "output_type": "execute_result"
    }
   ],
   "source": [
    "result.boxes[0].conf.item()"
   ]
  },
  {
   "cell_type": "code",
   "execution_count": 30,
   "id": "f7a1e83b-3ddf-4221-bda0-bf7078b5dd9c",
   "metadata": {},
   "outputs": [
    {
     "name": "stderr",
     "output_type": "stream",
     "text": [
      "WARNING  'Boxes.boxes' is deprecated. Use 'Boxes.data' instead.\n"
     ]
    },
    {
     "data": {
      "text/plain": [
       "ultralytics.engine.results.Boxes object with attributes:\n",
       "\n",
       "boxes: tensor([[261.0996,  94.0881, 460.9550, 313.6855,   0.9450,  16.0000]])\n",
       "cls: tensor([16.])\n",
       "conf: tensor([0.9450])\n",
       "data: tensor([[261.0996,  94.0881, 460.9550, 313.6855,   0.9450,  16.0000]])\n",
       "id: None\n",
       "is_track: False\n",
       "orig_shape: (415, 612)\n",
       "shape: torch.Size([1, 6])\n",
       "xywh: tensor([[361.0273, 203.8868, 199.8554, 219.5974]])\n",
       "xywhn: tensor([[0.5899, 0.4913, 0.3266, 0.5292]])\n",
       "xyxy: tensor([[261.0996,  94.0881, 460.9550, 313.6855]])\n",
       "xyxyn: tensor([[0.4266, 0.2267, 0.7532, 0.7559]])"
      ]
     },
     "execution_count": 30,
     "metadata": {},
     "output_type": "execute_result"
    }
   ],
   "source": [
    "box"
   ]
  },
  {
   "cell_type": "markdown",
   "id": "4e272734-a609-458d-93c5-be322ffb9ce3",
   "metadata": {},
   "source": [
    "#### Detect Multi-object"
   ]
  },
  {
   "cell_type": "code",
   "execution_count": 55,
   "id": "801ef0d2-af0f-4c49-9527-8db9a09e7876",
   "metadata": {},
   "outputs": [
    {
     "name": "stderr",
     "output_type": "stream",
     "text": [
      "\n",
      "image 1/1 D:\\Deep_Learning_Revision\\photo_2022-11-28_11-21-51.jpg: 480x640 4 persons, 4 tennis rackets, 620.2ms\n",
      "Speed: 4.8ms preprocess, 620.2ms inference, 0.0ms postprocess per image at shape (1, 3, 480, 640)\n"
     ]
    },
    {
     "name": "stdout",
     "output_type": "stream",
     "text": [
      "The object is tennis racket\n",
      "The confidence is 0.9154618978500366\n",
      "The cordinates are [692, 464, 795, 561]\n",
      "****************************************************************************************************\n",
      "The object is person\n",
      "The confidence is 0.9043867588043213\n",
      "The cordinates are [324, 328, 479, 845]\n",
      "****************************************************************************************************\n",
      "The object is person\n",
      "The confidence is 0.8867664933204651\n",
      "The cordinates are [752, 324, 917, 816]\n",
      "****************************************************************************************************\n",
      "The object is person\n",
      "The confidence is 0.8796682357788086\n",
      "The cordinates are [620, 324, 777, 800]\n",
      "****************************************************************************************************\n",
      "The object is person\n",
      "The confidence is 0.8690082430839539\n",
      "The cordinates are [462, 315, 617, 811]\n",
      "****************************************************************************************************\n",
      "The object is tennis racket\n",
      "The confidence is 0.6924963593482971\n",
      "The cordinates are [896, 582, 925, 670]\n",
      "****************************************************************************************************\n",
      "The object is tennis racket\n",
      "The confidence is 0.44730696082115173\n",
      "The cordinates are [338, 610, 401, 712]\n",
      "****************************************************************************************************\n",
      "The object is tennis racket\n",
      "The confidence is 0.39476850628852844\n",
      "The cordinates are [330, 503, 402, 713]\n",
      "****************************************************************************************************\n"
     ]
    }
   ],
   "source": [
    "image_path = \"photo_2022-11-28_11-21-51.jpg\"\n",
    "results = model.predict(image_path)\n",
    "\n",
    "for box in results[0].boxes:\n",
    "    object_target = result.names[box.cls[0].item()]\n",
    "    object_box = box.xyxy[0].tolist()\n",
    "    object_box = [round(x) for x in object_box]\n",
    "    conf = box.conf.item()\n",
    "    print(f\"The object is {object_target}\")\n",
    "    print(f\"The confidence is {conf}\")\n",
    "    print(f\"The cordinates are {object_box}\")\n",
    "    image = cv2.imread(image_path)\n",
    "    cv2.putText(image , object_target , (object_box[0],object_box[1]) , fontFace = cv2.FONT_HERSHEY_COMPLEX , fontScale = 1 , color = (0,0,255) )\n",
    "    cv2.rectangle(image , (object_box[0],object_box[1]),(object_box[2],object_box[3]) , (0,0,255))\n",
    "    cv2.imshow(\"image\" , image)\n",
    "    cv2.waitKey(0)\n",
    "    cv2.destroyAllWindows()\n",
    "    print(\"*\"  * 100)\n",
    "    \n",
    "    "
   ]
  },
  {
   "cell_type": "code",
   "execution_count": null,
   "id": "a398b8d5-b7e2-49fc-9572-f6e996428522",
   "metadata": {},
   "outputs": [],
   "source": []
  }
 ],
 "metadata": {
  "kernelspec": {
   "display_name": "Python 3 (ipykernel)",
   "language": "python",
   "name": "python3"
  },
  "language_info": {
   "codemirror_mode": {
    "name": "ipython",
    "version": 3
   },
   "file_extension": ".py",
   "mimetype": "text/x-python",
   "name": "python",
   "nbconvert_exporter": "python",
   "pygments_lexer": "ipython3",
   "version": "3.9.17"
  }
 },
 "nbformat": 4,
 "nbformat_minor": 5
}
